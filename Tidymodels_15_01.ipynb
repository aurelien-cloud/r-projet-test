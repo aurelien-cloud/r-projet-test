{
 "cells": [
  {
   "cell_type": "code",
   "execution_count": 2,
   "id": "58b6a731-3962-421c-8c70-9fdec6bf1bb5",
   "metadata": {},
   "outputs": [
    {
     "ename": "NameError",
     "evalue": "name 'library' is not defined",
     "output_type": "error",
     "traceback": [
      "\u001b[1;31m---------------------------------------------------------------------------\u001b[0m",
      "\u001b[1;31mNameError\u001b[0m                                 Traceback (most recent call last)",
      "Cell \u001b[1;32mIn[2], line 1\u001b[0m\n\u001b[1;32m----> 1\u001b[0m library(\u001b[38;5;124m'\u001b[39m\u001b[38;5;124mtidyverse\u001b[39m\u001b[38;5;124m'\u001b[39m)\n\u001b[0;32m      3\u001b[0m \u001b[38;5;66;03m# install.packages('tidymodels')\u001b[39;00m\n\u001b[0;32m      5\u001b[0m library(\u001b[38;5;124m'\u001b[39m\u001b[38;5;124mtidymodels\u001b[39m\u001b[38;5;124m'\u001b[39m)\n",
      "\u001b[1;31mNameError\u001b[0m: name 'library' is not defined"
     ]
    }
   ],
   "source": [
    "library('tidyverse')\n",
    "\n",
    "# install.packages('tidymodels')\n",
    "\n",
    "library('tidymodels')\n",
    "\n",
    "# install.packages(\"arrow\")\n",
    "\n",
    "library(arrow)"
   ]
  },
  {
   "cell_type": "code",
   "execution_count": null,
   "id": "459d29ec-92ab-4003-ac5f-278affba8c54",
   "metadata": {},
   "outputs": [],
   "source": [
    "# Lire le fichier Parquet depuis le répertoire courant\n",
    "dataini <- read_parquet(\"readmission_avc.parquet\")\n",
    "\n",
    "head(dataini)\n",
    "glimpse(dataini)"
   ]
  },
  {
   "cell_type": "markdown",
   "id": "d78fcf8e-8203-43e3-9fed-a0cfe71b1514",
   "metadata": {},
   "source": [
    "# 0. Data Preprocessing"
   ]
  },
  {
   "cell_type": "code",
   "execution_count": null,
   "id": "9b6e3674-bd6f-4545-a7bc-8dc338e023b5",
   "metadata": {},
   "outputs": [],
   "source": [
    "colSums(is.na(dataini))\n",
    "\n",
    "apply(is.na(dataini), 2, sum)\n",
    "\n",
    "map(dataini, ~sum(is.na(.)))"
   ]
  },
  {
   "cell_type": "code",
   "execution_count": null,
   "id": "ac481e59-038a-442b-9d73-c9f9d453b66d",
   "metadata": {},
   "outputs": [],
   "source": [
    "dataset<-\n",
    "    dataini%>%\n",
    "    filter(!is.na(id_D))%>%\n",
    "    mutate(target = as.factor(if_else(id_D == '',  0 ,  1)))%>%\n",
    "    mutate_at(c('modeEntree', 'modeSortie', 'sexe'), as.character)%>%\n",
    "    mutate(nbda = if_else(is.na(nbda), 0, nbda))%>%\n",
    "    filter(modeSortie != 9)%>%\n",
    "    select(-c(id, id_D))\n",
    "\n",
    "dataset%>%group_by(nbda)%>%summarise(nb = n())"
   ]
  },
  {
   "cell_type": "markdown",
   "id": "efaeefa0-f625-4933-8247-1c2ffc79d7cc",
   "metadata": {},
   "source": [
    "# 1. Data Split : Resample Library\n",
    "training set, validation set and test set"
   ]
  },
  {
   "cell_type": "code",
   "execution_count": null,
   "id": "13398f17-3dc8-4555-8b82-e914631cb792",
   "metadata": {},
   "outputs": [],
   "source": [
    "set.seed(42)\n",
    "\n",
    "dataset_split <- initial_split(dataset, strata = target, prop = 0.9)\n",
    "\n",
    "training <- training(dataset_split)\n",
    "test_set <- testing(dataset_split)\n",
    "\n",
    "training_split <- initial_split(training, strata = target, prop = 0.8)\n",
    "\n",
    "train_set <- training(training_split)\n",
    "validation_set <- testing(training_split)\n",
    "\n",
    "cat(dim(test_set), dim(validation_set), dim(test_set))\n",
    "# cat(dim(training), dim(), dim())\n",
    "\n",
    "dataset_split"
   ]
  },
  {
   "cell_type": "markdown",
   "id": "da54d426-8fdb-4e8f-9b2a-2986314b03ab",
   "metadata": {},
   "source": [
    "# 2. Features Enginnering : Recipes library\n",
    "Create a collection of input formulas"
   ]
  },
  {
   "cell_type": "code",
   "execution_count": null,
   "id": "9fe63f75-3d91-4b4e-9ccb-2519d4ad9e48",
   "metadata": {},
   "outputs": [],
   "source": [
    "rec_basic = recipe(data = train_set, target~.)\n",
    "\n",
    "rec_basic\n",
    "\n",
    "prep(rec_basic)\n",
    "\n",
    "# juice(prep(rec_basic))\n",
    "formula(prep(rec_basic))\n",
    "\n",
    "rec_basic <- recipe(data = train_set, target~.)%>%\n",
    "    step_impute_mean(age)%>%\n",
    "    step_impute_mode(sexe)%>%\n",
    "    step_normalize(age)%>% # StandardScaler()\n",
    "    # step_scale # StandardScaler(with_mean=False)\n",
    "    step_dummy(modeEntree)%>%\n",
    "    step_other(dp, threshold = 0.03)%>%\n",
    "    step_dummy(dp)\n",
    "\n",
    "juice(prep(rec_basic))\n",
    "\n",
    "# More general version \n",
    "rec_basic <- recipe(data = train_set, target~.) %>%\n",
    "    step_impute_mean(all_numeric_predictors())%>%\n",
    "    step_impute_mode(all_nominal_predictors())%>%\n",
    "    step_normalize(all_numeric_predictors())%>% # StandardScaler()\n",
    "    step_other(dp, threshold = 0.03)%>%\n",
    "    step_other(ghm2, threshold = .01)%>%\n",
    "    step_dummy(all_nominal_predictors())\n",
    "\n",
    "head(juice(prep(rec_basic)))"
   ]
  },
  {
   "cell_type": "code",
   "execution_count": null,
   "id": "67367082-f969-437f-b72d-244a4590d009",
   "metadata": {},
   "outputs": [],
   "source": [
    "rec_interaction <- rec_basic%>%\n",
    "                  step_interact(age~duree~sexe)  "
   ]
  },
  {
   "cell_type": "code",
   "execution_count": null,
   "id": "a53ab644-250f-45e2-8cd1-28674b8e7b42",
   "metadata": {},
   "outputs": [],
   "source": [
    "rec_spline <- rec_interaction%>%\n",
    "                  step_ns(age)"
   ]
  },
  {
   "cell_type": "markdown",
   "id": "97a3f29a-1d94-42f1-a89f-ec2b13970de7",
   "metadata": {},
   "source": [
    "# 3. Model : Parsnip library\n",
    "\n",
    "## 3.1 Logistical model and workflow"
   ]
  },
  {
   "cell_type": "code",
   "execution_count": null,
   "id": "a62a852f-8d25-4038-9deb-45f9f65f9382",
   "metadata": {},
   "outputs": [],
   "source": [
    "log_mod <- logistic_reg()%>%\n",
    "    set_engine('glm')%>%\n",
    "    set_mode('classification')\n",
    "\n",
    "log_wf <- workflow()%>%\n",
    "    add_recipe(rec_basic)%>%\n",
    "    add_model(log_mod)\n",
    "\n",
    "log_fitted <- log_wf%>%fit(train_set)\n",
    "\n",
    "log_fitted%>%predict(validation_set)\n",
    "log_fitted%>%predict(validation_set, type = 'prob')\n",
    "\n",
    "log_pred <- validation_set%>%select('target')%>%\n",
    "            bind_cols(\n",
    "                    log_fitted%>%predict(validation_set), \n",
    "                    log_fitted%>%predict(validation_set, type = 'prob')\n",
    "            )\n",
    "\n",
    "log_pred"
   ]
  },
  {
   "cell_type": "markdown",
   "id": "ebd55121-9df1-4756-af34-413fa4bd08c3",
   "metadata": {},
   "source": [
    "## 3.2 RF wf"
   ]
  },
  {
   "cell_type": "markdown",
   "id": "6f8f2bb3-12e7-4155-ad3c-9aca3f25227c",
   "metadata": {},
   "source": [
    "Cas où fixer le random_state est important :\n",
    "\n",
    "Comparaison entre modèles Lorsque vous comparez plusieurs modèles (par exemple, RandomForest, Gradient Boosting, SVM, etc.), il est recommandé de fixer le random_state dans les modèles aléatoires comme RandomForest ou Gradient Boosting.\n",
    "Cela garantit que les scores de validation croisée des modèles aléatoires ne fluctuent pas inutilement, et les comparaisons sont basées uniquement sur leurs performances réelles, et non sur des différences dues au hasard."
   ]
  },
  {
   "cell_type": "code",
   "execution_count": null,
   "id": "28ce013a-2335-4afe-8243-d35c35fea5d9",
   "metadata": {},
   "outputs": [],
   "source": [
    "library(ranger)\n",
    "\n",
    "rf_mod <- rand_forest()%>%\n",
    "    set_engine('ranger')%>% # Une implémentation rapide et efficace de Random Forest en C++\n",
    "    set_mode('classification')\n",
    "\n",
    "rf_mod <- rand_forest(\n",
    "  trees = tune(),      # Équivalent de n_estimators\n",
    "  mtry = tune(),      # Équivalent de max_features\n",
    "  min_n = tune()       # Taille minimale des nœuds terminaux => min_samples_leaf\n",
    ") %>%\n",
    "  set_engine(\"ranger\") %>%\n",
    "  set_mode(\"classification\")\n",
    "\n",
    "rf_wf <- workflow() %>%\n",
    "  add_recipe(rec_basic) %>%\n",
    "  add_model(rf_mod)\n",
    "\n",
    "# Automatiquement divisé en 5 valeurs\n",
    "grid_regular(\n",
    "  trees(range = c(50, 200)),  \n",
    "  mtry(range = c(2, 10)),\n",
    "  levels = 5\n",
    ")"
   ]
  },
  {
   "cell_type": "markdown",
   "id": "11eb9b55-fa09-4447-8c01-483dae355ee6",
   "metadata": {},
   "source": [
    "**n_estimators** (Nombre d'arbres dans la forêt)<br/>\n",
    "\n",
    "Pourquoi le tuner ?<br/>\n",
    "* Augmenter le nombre d'arbres améliore souvent la performance du modèle (réduit la variance), mais au prix d'une augmentation du temps d'entraînement et d'inférence.\n",
    "* Par défaut, 100 arbres suffisent souvent, mais augmenter à 200 ou 500 peut être utile pour des datasets complexes.\n",
    "* Valeurs courantes : 50, 100, 200, 500.\n",
    "\n",
    "**max_features** (Nombre de features à considérer lors de la division)<br/>\n",
    "Description : Nombre de features à échantillonner aléatoirement pour rechercher la meilleure division à chaque split.<br/>\n",
    "* 'sqrt' : \n",
    "* 'log2' : \n",
    "* Un entier : Un nombre fixe de features.<br/>\n",
    "\n",
    "Pourquoi le tuner ?\n",
    "* Moins de features à chaque split réduit la corrélation entre les arbres, ce qui améliore la diversité de la forêt.\n",
    "* Trop peu de features peuvent limiter la capacité d'apprentissage des arbres.\n",
    "* Valeurs courantes : 'sqrt', 'log2', 0.3, 0.5 (fraction des features).\n",
    "\n",
    "**min_samples_leaf** (Nombre mininum d’échantillons par feuille)<br/>\n",
    "Description : Nombre mininum d'échantillons requis pour qu'un nœud soit une feuille (Le nombre minimum d'individus (ou de lignes) requis pour qu’un nœud soit considéré comme une feuille.).<br/>\n",
    "Pourquoi le tuner ?<br/>\n",
    "* Augmenter cette valeur force les feuilles à contenir plus d’échantillons, ce qui réduit le surapprentissage.<br/>\n",
    "* Cela est particulièrement utile pour les datasets déséquilibrés ou bruités.<br/>\n",
    "\n",
    "Valeurs courantes : 1 (par défaut), 5, 10, 20.\n",
    "\n",
    "\n",
    "**max_depth** (Profondeur maximale des arbres)<br/>\n",
    "Description : Contrôle la profondeur maximale de chaque arbre.\n",
    "\n",
    "Pourquoi le tuner ?<br/>\n",
    "* Limiter la profondeur aide à éviter le surapprentissage (overfitting).\n",
    "* Des arbres très profonds capturent trop de bruit dans les données, tandis que des arbres peu profonds risquent de sous-apprendre (underfitting).\n",
    "\n",
    "Valeurs courantes :<br/>\n",
    "* None (par défaut, arbre entièrement développé).\n",
    "* Valeurs typiques : 5, 10, 20, en fonction de la taille des données.\n"
   ]
  },
  {
   "cell_type": "code",
   "execution_count": null,
   "id": "03df2955-9ba6-46a4-82c8-68dc2b8186e4",
   "metadata": {},
   "outputs": [],
   "source": [
    "rf_grid <- expand.grid(\n",
    "  trees = c(50, 100, 200),  # Nombre d'arbres\n",
    "  mtry = c(floor(sqrt(ncol(train_set))), 5),      # Valeurs spécifiques pour mtry\n",
    "  # max_depth = c(5, 10, 20, NA)  # Valeurs spécifiques pour max_depth\n",
    "  min_n = c(1, 5, 10) # Taille minimale des nœuds terminaux, Plus cette valeur est grande, plus vos arbres seront \"simples\" (moins de surapprentissage)\n",
    ")\n",
    "\n",
    "print(rf_grid)\n",
    "\n"
   ]
  },
  {
   "cell_type": "code",
   "execution_count": null,
   "id": "199a772a-e2d5-4c7a-b0ec-616ec36d83bb",
   "metadata": {},
   "outputs": [],
   "source": [
    "set.seed(42)\n",
    "cv_splits <- vfold_cv(train_val_set, v = 5, strata = target)"
   ]
  },
  {
   "cell_type": "code",
   "execution_count": null,
   "id": "8e3b2321-d170-4751-ac1b-4024cd68ad8d",
   "metadata": {},
   "outputs": [],
   "source": [
    "set.seed(42)\n",
    "rf_grid_fitted <- tune_grid(\n",
    "  rf_wf,\n",
    "  resamples = cv_splits,\n",
    "  grid = rf_grid,\n",
    "  metrics = metric_set(accuracy, roc_auc)\n",
    ")"
   ]
  },
  {
   "cell_type": "code",
   "execution_count": null,
   "id": "159d9398-7418-4b08-adc0-46494e883d20",
   "metadata": {},
   "outputs": [],
   "source": [
    "floor(log2(ncol(train_set)))\n",
    "\n",
    "floor(sqrt(ncol(train_set)))"
   ]
  },
  {
   "cell_type": "code",
   "execution_count": null,
   "id": "1c167c19-b78b-49d3-944e-84a1bad4c37c",
   "metadata": {},
   "outputs": [],
   "source": [
    "show_best(rf_grid_fitted, metric = \"roc_auc\")\n",
    "\n",
    "best_rf_params = select_best(rf_grid_fitted, metric = \"roc_auc\")"
   ]
  },
  {
   "cell_type": "code",
   "execution_count": null,
   "id": "ab487a6b-c968-40dc-aff0-d64696d335b0",
   "metadata": {},
   "outputs": [],
   "source": [
    "all_results <- collect_metrics(rf_grid_fitted)\n",
    "all_results %>%\n",
    "  filter(.metric == \"roc_auc\") %>%\n",
    "  arrange(desc(mean))"
   ]
  },
  {
   "cell_type": "code",
   "execution_count": null,
   "id": "86d41a7b-45e3-4baa-9274-fad43dbc7af0",
   "metadata": {},
   "outputs": [],
   "source": [
    "# Modèle final\n",
    "final_rf_wf <- finalize_workflow(rf_wf, best_rf_params)\n",
    "final_rf_fit <- fit(final_rf_wf, data = train_data)"
   ]
  },
  {
   "cell_type": "markdown",
   "id": "8ff5abdc-5902-4da8-8043-c8cb11084adb",
   "metadata": {},
   "source": [
    "## 3.3 KNN"
   ]
  },
  {
   "attachments": {
    "8ce1bc90-bcec-4fa6-82ea-81e598f38a9c.png": {
     "image/png": "[encoded data removed]"
    }
   },
   "cell_type": "markdown",
   "id": "cbbf8849-a389-4392-96a6-e55fc1549ed5",
   "metadata": {},
   "source": [
    "![image.png](attachment:8ce1bc90-bcec-4fa6-82ea-81e598f38a9c.png)"
   ]
  },
  {
   "cell_type": "code",
   "execution_count": null,
   "id": "dfd2ea18-3af0-4b14-8519-04d863b7a856",
   "metadata": {},
   "outputs": [],
   "source": [
    "install.packages(\"kknn\")\n",
    "\n",
    "library(\"kknn\")"
   ]
  },
  {
   "cell_type": "code",
   "execution_count": null,
   "id": "5f10e779-701c-4388-96b1-0c706407d941",
   "metadata": {},
   "outputs": [],
   "source": [
    "knn_mod <- nearest_neighbor(\n",
    "  neighbors = tune(),  # Équivalent de n_neighbors\n",
    "  weight_func = tune(),  # Équivalent de weights\n",
    "  dist_power = tune()    # Équivalent de la metric (minkowski, manhattan, euclidean)\n",
    ") %>%\n",
    "  set_engine(\"kknn\") %>%\n",
    "  set_mode(\"classification\")\n",
    "\n",
    "knn_wf <- workflow() %>%\n",
    "  add_recipe(rec_basic) %>%\n",
    "  add_model(knn_mod)\n",
    "\n",
    "knn_grid <- grid_regular(\n",
    "  neighbors(range = c(3, 10)),       \n",
    "  dist_power(range = c(1, 2)),       \n",
    "  levels = 5                         \n",
    ") %>%\n",
    "  mutate(weight_func = rep(c(\"rectangular\", \"inv\"), length.out = nrow(.)))\n",
    "\n",
    "print(knn_grid)"
   ]
  },
  {
   "cell_type": "markdown",
   "id": "e69d5788-fa41-427d-8138-f487be5b75b2",
   "metadata": {},
   "source": [
    "#### Hyperparamètres courants à tuner pour KNN<br/>\n",
    "\n",
    "**n_neighbors** (Nombre de voisins)<br/>\n",
    "Description : Définit combien de voisins sont considérés pour prendre une décision.<br/>\n",
    "Pourquoi le tuner ?<br/>\n",
    "* Un nombre de voisins trop faible peut rendre le modèle sensible au bruit (overfitting).\n",
    "* Un nombre trop élevé peut le rendre trop généralisant (underfitting).\n",
    "<br/>Valeurs courantes : 3, 5, 7, 10, 15.\n",
    "\n",
    "**weights** (Pondération des voisins)\n",
    "Description : Définit si tous les voisins contribuent également ou si leur contribution est pondérée par la distance.\n",
    "'uniform' : Tous les voisins ont le même poids.\n",
    "'distance' : Les voisins proches ont plus de poids que les voisins éloignés.\n",
    "Pourquoi le tuner ? <br/>\n",
    "La pondération par distance peut améliorer la performance si les observations proches sont plus représentatives de la classe cible.\n",
    "Valeurs courantes : 'uniform', 'distance'.\n",
    "\n",
    "\n",
    "**metric** (Distance utilisée pour trouver les voisins)\n",
    "Description : Définit la mesure de distance utilisée pour calculer la proximité entre les points.\n",
    "* 'minkowski' : Distance généralisée.\n",
    "* 'euclidean' : Distance euclidienne\n",
    "* 'manhattan' : Distance Manhattan\n",
    "\n",
    "Pourquoi le tuner ?<br/>\n",
    "Certaines mesures de distance peuvent mieux capturer la structure des données en fonction du problème.\n",
    "Valeurs courantes : 'euclidean', 'manhattan', 'minkowski'.\n"
   ]
  },
  {
   "cell_type": "code",
   "execution_count": null,
   "id": "6aed47f4-499b-4dff-96c8-3feb479ba9fb",
   "metadata": {},
   "outputs": [],
   "source": [
    "# dist_power = 1, la distance de Minkowski devient équivalente à la distance de Manhattan\n",
    "# dist_power = 2, vous utilisez la distance Euclidienne\n",
    "\n",
    "knn_grid_fitted <- tune_grid(\n",
    "    knn_wf,\n",
    "    resamples = cv_splits,\n",
    "    grid = knn_grid,\n",
    "    metrics = metric_set(accuracy, roc_auc, f_meas),\n",
    "    control = control_grid(save_pred =  TRUE)\n",
    ")"
   ]
  },
  {
   "cell_type": "code",
   "execution_count": null,
   "id": "193ac9f9-56da-4d0d-986d-572079e6fcf4",
   "metadata": {},
   "outputs": [],
   "source": [
    "show_best(knn_grid_fitted, metric = \"roc_auc\")\n",
    "select_best(knn_grid_fitted, metric = \"roc_auc\")"
   ]
  },
  {
   "cell_type": "markdown",
   "id": "6d756638-7eb8-4600-a546-55229bede735",
   "metadata": {},
   "source": [
    "## 3.4 penalized regression"
   ]
  },
  {
   "cell_type": "code",
   "execution_count": null,
   "id": "306a6553-dbe5-4fc9-b26f-27dff270b5cc",
   "metadata": {},
   "outputs": [],
   "source": [
    "install.packages('glmnet')\n",
    "\n",
    "library(glmnet)"
   ]
  },
  {
   "cell_type": "code",
   "execution_count": null,
   "id": "15200fc8-b18e-4dd8-8c18-7b9b4c0d562d",
   "metadata": {},
   "outputs": [],
   "source": [
    "# install.packages('glmnet')\n",
    "\n",
    "library(glmnet)\n",
    "\n",
    "pena_mod <- \n",
    "    logistic_reg(penalty = tune(), mixture = tune()) %>%\n",
    "    set_engine(\"glmnet\")\n",
    "\n",
    "pena_wf <- workflow() %>%\n",
    "  add_recipe(rec_basic) %>%\n",
    "  add_model(pena_mod)\n",
    "\n",
    "ridge_grid <- expand.grid(\n",
    "  penalty = c(100, 10, 1, 0.1, 0.01, 0.001),  # 1 / C = 10, 100, 1000\n",
    "  mixture = 0                     # Ridge (L2)\n",
    ")\n",
    "\n",
    "lasso_grid <- expand.grid(\n",
    "  penalty = c(100, 10, 1, 0.1, 0.01, 0.001),  # 1 / C = 10, 100, 1000\n",
    "  mixture = 1                     # Lasso (L1)\n",
    ")\n",
    "\n",
    "\n",
    "elastic_net_grid <- expand.grid(\n",
    "  penalty = c(100, 10, 1, 0.1, 0.01, 0.001),  # 1 / C = 10, 100, 1000\n",
    "  mixture = c(0.1, 0.5, 0.9)      # l1_ratio\n",
    ")\n",
    "\n",
    "\n",
    "pena_grid <- bind_rows(\n",
    "  ridge_grid,\n",
    "  lasso_grid,\n",
    "  elastic_net_grid\n",
    ")"
   ]
  },
  {
   "cell_type": "code",
   "execution_count": null,
   "id": "61acc9c6-4eb6-423c-8ab3-06b15e95b95c",
   "metadata": {},
   "outputs": [],
   "source": [
    "print(pena_grid)"
   ]
  },
  {
   "cell_type": "code",
   "execution_count": null,
   "id": "5cfce2fd-b10b-469e-bce6-331bba991dd7",
   "metadata": {},
   "outputs": [],
   "source": [
    "# Rechercher les meilleurs hyperparamètres\n",
    "pena_grid_fitted <- tune_grid(\n",
    "  pena_wf,\n",
    "  resamples = cv_splits,\n",
    "  grid = pena_grid,\n",
    "  metrics = metric_set(roc_auc, accuracy) # Mesurer la performance avec AUC\n",
    ")\n",
    "\n"
   ]
  },
  {
   "cell_type": "code",
   "execution_count": null,
   "id": "2689752e-827c-4785-9f14-6873186ad030",
   "metadata": {},
   "outputs": [],
   "source": [
    "# Voir les meilleurs résultats\n",
    "show_best(pena_grid_fitted, metric = \"roc_auc\")\n",
    "\n",
    "select_best(rf_grid_fitted, metric = \"roc_auc\")"
   ]
  },
  {
   "cell_type": "markdown",
   "id": "91de6727-f330-4361-bbdc-d927cfb2bad3",
   "metadata": {},
   "source": [
    "## 3.5 xgboost \n",
    "Il semble que c'est xg qui marche au mieux"
   ]
  },
  {
   "cell_type": "code",
   "execution_count": null,
   "id": "b6e5e654-215f-4b3b-b353-ca937bb73303",
   "metadata": {},
   "outputs": [],
   "source": [
    "install.packages('xgboost')\n",
    "library('xgboost')"
   ]
  },
  {
   "cell_type": "code",
   "execution_count": null,
   "id": "fac279bf-7b57-46d9-bc3c-300bc3ce8b1b",
   "metadata": {},
   "outputs": [],
   "source": [
    "\n",
    "gb_mod <- boost_tree(\n",
    "  trees = tune(),            # Nombre d'arbres (équivalent de `n_estimators`)\n",
    "  learn_rate = tune(),       # Taux d'apprentissage (`learning_rate`)\n",
    "  tree_depth = tune()        # Profondeur maximale des arbres (`max_depth`)\n",
    ") %>%\n",
    "  set_engine(\"xgboost\", set.seed = 42) %>%\n",
    "  set_mode(\"classification\")\n",
    "\n",
    "\n",
    "gb_wf <- workflow() %>%\n",
    "  add_recipe(rec_basic) %>%\n",
    "  add_model(gb_mod)\n",
    "\n",
    "gb_grid <- expand_grid(\n",
    "  trees = c(300, 500),\n",
    "  learn_rate = c(0.01, 0.05, 0.1, 0.2),\n",
    "  tree_depth = c(3, 5, 7)\n",
    ")\n",
    "print(gb_grid)"
   ]
  },
  {
   "cell_type": "markdown",
   "id": "c1a2f14f-117e-4453-9fe5-dc17afa4de5c",
   "metadata": {},
   "source": [
    "**learning_rate** <br/>\n",
    "Description : Le Gradient Boosting construit les arbres séquentiellement : chaque nouvel arbre est formé pour corriger les erreurs faites par les arbres précédents. À chaque étape, le nouvel arbre ajuste les résidus (erreurs) des prédictions précédentes.Le learning_rate contrôle la contribution de chaque nouvel arbre à la prédiction globale 𝐹 𝑡 ( 𝑥 )<br/>\n",
    "Importance : Très élevé.<br/>\n",
    "* Un taux d'apprentissage faible (ex. : 0.01) nécessite plus d'arbres (n_estimators) pour atteindre des performances optimales.\n",
    "* Un taux élevé (ex. : 0.2 ou 0.3) permet une convergence rapide, mais risque de sur-apprendre.\n",
    "* Valeur par défaut : 0.1.\n",
    "* Valeurs courantes : [0.01, 0.05, 0.1, 0.2].\n",
    "\n",
    "\n",
    "**n_estimators**<br/>\n",
    "Description : Nombre total d'arbres dans le modèle. A chaque itération, un seul arbre est ajouté au modèle<br/>\n",
    "Importance : Très élevé.\n",
    "* Un nombre insuffisant d'arbres peut sous-apprendre, tandis qu'un nombre trop élevé peut augmenter le temps d'entraînement sans amélioration significative.\n",
    "* Valeur par défaut : 100.\n",
    "* Valeurs courantes : [100, 200, 500, 1000], dépendant de la taille des données et de learning_rate.\n",
    "\n",
    "**max_depth**<br/>\n",
    "Description : Profondeur maximale de chaque arbre.<br/>\n",
    "Importance : Élevée.\n",
    "* Limiter la profondeur empêche les arbres de surapprendre en capturant trop de bruit.\n",
    "* Une profondeur trop faible peut sous-apprendre les relations complexes dans les données.\n",
    "* Valeur par défaut : 3.\n",
    "* Valeurs courantes : [3, 5, 7, None].\n",
    "\n",
    "**min_samples_split**<br/>\n",
    "Description : Nombre mininum d'échantillons requis pour diviser un nœud.<br/>\n",
    "Importance : Moyen.<br/>\n",
    "* Permet de contrôler la taille minimale des nœuds parents, ce qui limite les arbres très complexes.\n",
    "* Valeur par défaut : 2.\n",
    "* Valeurs courantes : [2, 5, 10].\n",
    "\n",
    "**min_samples_leaf** <br/>\n",
    "Description : Nombre mininum d'échantillons requis pour être dans une feuille.<br/>\n",
    "Importance : Moyen.<br/>\n",
    "* Empêche les arbres de créer des feuilles contenant un très petit nombre de données, ce qui peut les rendre sensibles au bruit.\n",
    "* Valeur par défaut : 1.\n",
    "* Valeurs courantes : [1, 5, 10, 20]."
   ]
  },
  {
   "cell_type": "code",
   "execution_count": null,
   "id": "54576c12-94bd-4c7e-bdac-d62711e45a52",
   "metadata": {},
   "outputs": [],
   "source": [
    "gb_grid_fitted = tune_grid(\n",
    "    gb_wf,\n",
    "    grid=  gb_grid,\n",
    "    resamples = cv_splits,\n",
    "    metrics = metric_set(roc_auc, f_meas, accuracy),\n",
    "    control = control_grid(save_pred = TRUE)\n",
    ")"
   ]
  },
  {
   "cell_type": "code",
   "execution_count": null,
   "id": "3c286edf-1ad2-434c-bfbb-cc7f854766f1",
   "metadata": {},
   "outputs": [],
   "source": [
    "show_best(gb_grid_fitted, metric = \"roc_auc\")\n",
    "\n",
    "select_best(gb_grid_fitted, metric = \"roc_auc\")"
   ]
  },
  {
   "cell_type": "markdown",
   "id": "64a84f58-16de-43a3-919d-109ff9cd6b16",
   "metadata": {},
   "source": [
    "## 3.6 SVM\n",
    "\n",
    "svm_linear() : pour les SVM avec noyau linéaire.\n",
    "svm_rbf() : pour les SVM avec noyau RBF (Radial Basis Function).\n",
    "svm_poly() : pour les SVM avec noyau polynomial."
   ]
  },
  {
   "cell_type": "code",
   "execution_count": null,
   "id": "5eec3e62-84d1-4352-b9a7-45230f654cde",
   "metadata": {},
   "outputs": [],
   "source": [
    "install.packages('kernlab')\n",
    "\n",
    "library(kernlab)\n",
    "\n",
    "# Définir le modèle\n",
    "svm_poly_mod <- svm_poly(\n",
    "  cost = tune(),       # Paramètre C à tuner\n",
    "  degree = tune()      # Degré du noyau polynomial à tuner\n",
    ") %>%\n",
    "  set_engine(\"kernlab\") %>%\n",
    "  set_mode(\"classification\")\n",
    "\n",
    "\n",
    "\n",
    "# Workflow\n",
    "svm_poly_wf <- workflow() %>%\n",
    "  add_model(svm_poly_mod) %>%\n",
    "  add_recipe(rec_basic)\n",
    "\n",
    "# Grille d'hyperparamètres\n",
    "svm_poly_grid <- tidyr::expand_grid(\n",
    "  cost = c(0.1, 1, 10, 100),  # Valeurs spécifiques pour C\n",
    "  degree = c(2, 3, 4)         # Valeurs spécifiques pour degree\n",
    ")\n",
    "\n",
    "\n"
   ]
  },
  {
   "cell_type": "code",
   "execution_count": null,
   "id": "156b7922-9198-4449-8b61-7c909256d9ed",
   "metadata": {},
   "outputs": [],
   "source": [
    "class(svm_poly_results)\n",
    "\n",
    "svm_poly_results <- tune_grid(\n",
    "  svm_poly_wf,\n",
    "  resamples = cv_splits,\n",
    "  grid = svm_poly_grid,\n",
    "  metrics = metric_set(roc_auc, accuracy)\n",
    ")\n",
    "\n",
    "show_best(svm_poly_results, metric = \"roc_auc\")\n",
    "\n",
    "select_best(svm_poly_results, metric = \"roc_auc\")\n",
    "\n"
   ]
  },
  {
   "cell_type": "markdown",
   "id": "359c88e3-2d73-4029-b7f0-be7fdf6b3363",
   "metadata": {},
   "source": [
    "## 3.7 MLP"
   ]
  },
  {
   "cell_type": "code",
   "execution_count": null,
   "id": "c17f29ff-2b8a-4af5-aa29-0ad8474ad3e0",
   "metadata": {},
   "outputs": [],
   "source": [
    "# install.packages('nnet')\n",
    "library(nnet)\n",
    "\n",
    "# Définir le modèle MLP\n",
    "mlp_mod <- mlp(\n",
    "  hidden_units = tune(),    # Nombre de neurones dans la couche cachée\n",
    "  penalty = tune(),         # Coefficient de régularisation L2\n",
    "  epochs = tune()           # Nombre d'itérations\n",
    ") %>%\n",
    "  set_engine(\"nnet\") %>%    # Utiliser le moteur nnet\n",
    "  set_mode(\"classification\") # Mode classification (ou regression si nécessaire)\n",
    "\n",
    "# Afficher la structure du modèle\n",
    "mlp_mod\n",
    "\n",
    "# install.packages('tensorflow') \n",
    "\n",
    "# install.packages('keras')\n",
    "# library(tidymodels)\n",
    "# library(keras)\n",
    "# library(tensorflow)\n",
    "\n",
    "# # Définir un modèle MLP avec plusieurs couches cachées\n",
    "# mlp_keras_mod <- mlp(\n",
    "#   hidden_units = tune(),  # Neurones dans chaque couche\n",
    "#   penalty = tune(),       # Régularisation L2\n",
    "#   epochs = tune()         # Nombre d'itérations\n",
    "# ) %>%\n",
    "#   set_engine(\"keras\") %>%\n",
    "#   set_mode(\"classification\")\n",
    "\n",
    "mlp_grid <- grid_regular(\n",
    "  hidden_units(range = c(1, 10)),  # Nombre de neurones cachés\n",
    "  penalty(range = c(0.001, 0.1)),  # Régularisation L2\n",
    "  epochs(range = c(50, 200)),      # Nombre d'itérations\n",
    "  levels = 5                       # Divise les plages en 5 niveaux\n",
    ")\n",
    "\n"
   ]
  },
  {
   "cell_type": "code",
   "execution_count": null,
   "id": "fa31c5e1-60ae-4757-a0ad-81ae4823958a",
   "metadata": {},
   "outputs": [],
   "source": [
    "mlp_wf <- workflow() %>%\n",
    "  add_recipe(rec_basic) %>%  # Crée une recette\n",
    "  add_model(mlp_mod)\n",
    "  # add_model(mlp_keras_mod)\n",
    "\n",
    "set.seed(123)\n",
    "mlp_res <- mlp_wf %>%\n",
    "  tune_grid(\n",
    "    resamples = cv_splits,  # 5-fold cross-validation\n",
    "    grid = mlp_grid,                             # Grille d'hyperparamètres\n",
    "    metrics = metric_set(roc_auc, accuracy))\n",
    "\n",
    "\n",
    "collect_metrics(mlp_res)\n",
    "\n",
    "show_best(mlp_res, metric = \"roc_auc\", n = 5)\n",
    "\n",
    "best_params <- select_best(mlp_res, metric = \"roc_auc\")\n",
    "print(best_params)"
   ]
  },
  {
   "cell_type": "markdown",
   "id": "138cde52-b3a5-407f-9267-4f7e4fdbe034",
   "metadata": {},
   "source": [
    "# 4. Workflowset"
   ]
  },
  {
   "cell_type": "code",
   "execution_count": null,
   "id": "5dc24f66-f4dc-4560-bea1-32eee1b9bd93",
   "metadata": {},
   "outputs": [],
   "source": [
    "# ============================================\n",
    "# 1. Définir les recettes\n",
    "# ============================================\n",
    "recipes <- list(\n",
    "  basic = rec_basic,\n",
    "  interaction = rec_interaction,\n",
    "  spline = rec_spline\n",
    ")\n",
    "\n",
    "\n",
    "# ============================================\n",
    "# 2. Définir les modèles\n",
    "# ============================================\n",
    "\n",
    "models <- list(\n",
    "  gb = gb_mod,\n",
    "  rf = rf_mod,\n",
    "  reg = pena_mod,\n",
    "  mlp_mod\n",
    ")\n",
    "\n",
    "# ============================================\n",
    "# 3. Créer le Workflowset\n",
    "# ============================================\n",
    "\n",
    "wf_set <-\n",
    "  workflow_set(\n",
    "    preproc = recipes,\n",
    "    models = models\n",
    ")"
   ]
  },
  {
   "cell_type": "code",
   "execution_count": null,
   "id": "1cd70979-95bf-4aea-b485-d21dca0abe86",
   "metadata": {},
   "outputs": [],
   "source": [
    "# ============================================\n",
    "# 5. Exécuter le tuning pour chaque combinaison\n",
    "# ============================================\n",
    "\n",
    "\n",
    "set.seed(24)\n",
    "\n",
    "wf_set_fitted <- wf_set%>%\n",
    "  workflow_map(\n",
    "    resamples = cv_splits,\n",
    "    metrics = metric_set(roc_auc, accuracy),\n",
    "    grid = 5,\n",
    "    # grid = 20,\n",
    "    fn = 'tune_grid',\n",
    "    verbose = T\n",
    "  )"
   ]
  },
  {
   "cell_type": "code",
   "execution_count": null,
   "id": "9c34504d-29a6-44df-ab0a-06ac108825d5",
   "metadata": {},
   "outputs": [],
   "source": [
    "# ============================================\n",
    "# 6. Visualiser et analyser les résultats\n",
    "# ============================================\n",
    "\n",
    "wf_set_fitted %>%\n",
    "    rank_results(rank_metric = \"roc_auc\")%>%\n",
    "    filter(.metric == \"roc_auc\") %>%\n",
    "    arrange(desc(mean))\n",
    "\n"
   ]
  },
  {
   "cell_type": "code",
   "execution_count": null,
   "id": "dad04cda-8670-4f41-9742-60b654c79ef3",
   "metadata": {},
   "outputs": [],
   "source": [
    "autoplot(\n",
    "    wf_set_fitted,\n",
    "    rank_metric = \"roc_auc\", # how to order models\n",
    "    metric = \"roc_auc\", # which metric to visualize\n",
    "    select_best = TRUE # one point per workflow\n",
    ")\n"
   ]
  },
  {
   "cell_type": "code",
   "execution_count": null,
   "id": "d7e0c512-e156-4bcf-8905-457bef51984f",
   "metadata": {},
   "outputs": [],
   "source": [
    "# ============================================\n",
    "# 7. Extraire et finaliser le meilleur workflow\n",
    "# ============================================\n",
    "\n",
    "res <- wf_set_fitted %>%\n",
    "    rank_results(rank_metric = \"roc_auc\")%>%\n",
    "    filter(.metric == \"roc_auc\") %>%\n",
    "    arrange(desc(mean))\n",
    "\n",
    "res"
   ]
  },
  {
   "cell_type": "code",
   "execution_count": null,
   "id": "3f92f47b-bb5b-4b17-bacf-26bd09c33a2b",
   "metadata": {},
   "outputs": [],
   "source": [
    "results <- wf_set_fitted %>%\n",
    "  extract_workflow_set_result('basic_gb')"
   ]
  },
  {
   "cell_type": "code",
   "execution_count": null,
   "id": "b04e31b0-d1db-42af-b65c-740ac2cc1f90",
   "metadata": {},
   "outputs": [],
   "source": [
    "metrics <- results %>%\n",
    "  collect_metrics()\n",
    "\n",
    "# metrics %>%\n",
    "#   show_best('roc_auc', n = Inf)\n",
    "best_roc_auc <- metrics %>%\n",
    "  filter(.metric == \"roc_auc\") %>%\n",
    "  summarise(max_roc_auc = max(mean)) %>%\n",
    "  pull(max_roc_auc)"
   ]
  },
  {
   "cell_type": "code",
   "execution_count": null,
   "id": "6de9cd2d-3f97-4e61-a134-1f45f19e66d0",
   "metadata": {},
   "outputs": [],
   "source": [
    "best_params <- metrics %>%\n",
    "  filter(.metric == \"roc_auc\", mean == best_roc_auc)\n",
    "\n",
    "best_params\n",
    "\n",
    "best_roc_auc"
   ]
  },
  {
   "cell_type": "code",
   "execution_count": null,
   "id": "0952d530-2518-4131-b454-6c086f3b6f97",
   "metadata": {},
   "outputs": [],
   "source": [
    "final_workflow <- finalize_workflow(\n",
    "  extract_workflow(wf_set_fitted, 'basic_gb'),\n",
    "  best_params\n",
    ")"
   ]
  },
  {
   "cell_type": "code",
   "execution_count": null,
   "id": "fbb671ca-10d8-43fe-bdbd-48a06ccbe9f2",
   "metadata": {},
   "outputs": [],
   "source": [
    "# ============================================\n",
    "# 8. Ajuster le modèle final et prédire\n",
    "# ============================================\n",
    "last_fit <- final_workflow %>%\n",
    "  last_fit(split = dataset_split)"
   ]
  },
  {
   "cell_type": "code",
   "execution_count": null,
   "id": "488cd34a-ff9b-4e29-868b-66f12830d44f",
   "metadata": {},
   "outputs": [],
   "source": [
    "# ============================================\n",
    "# 9. Calculer les métriques finales\n",
    "# ============================================\n",
    "# last_fit %>% collect_predictions()\n",
    "\n",
    "last_fit%>% collect_metrics()\n",
    "\n",
    "class(last_fit)"
   ]
  },
  {
   "cell_type": "markdown",
   "id": "76f603e7-4254-4117-9a6a-f3bcb5747b3d",
   "metadata": {},
   "source": [
    "## Alernatif à partir de l'étape 7"
   ]
  },
  {
   "cell_type": "code",
   "execution_count": null,
   "id": "be37c651-d288-4f40-8aa5-b59f766d953a",
   "metadata": {},
   "outputs": [],
   "source": [
    "# ============================================\n",
    "# 7. Extraire et finaliser le meilleur workflow\n",
    "# ============================================\n",
    "best_results <- wf_set_fitted %>%\n",
    "  rank_results(rank_metric = \"roc_auc\") %>%\n",
    "  filter(.metric == \"roc_auc\") %>%\n",
    "  arrange(desc(mean))\n",
    "\n",
    "\n",
    "best_workflow_id <- best_results$wflow_id[1]  # ID du meilleur workflow\n",
    "\n",
    "best_workflow <- extract_workflow_set_result(wf_set_fitted, id = best_workflow_id)\n",
    "\n",
    "best_params <- select_best(best_workflow, metric = \"roc_auc\")\n",
    "\n",
    "final_workflow <- finalize_workflow(\n",
    "  extract_workflow(wf_set_fitted, 'basic_gb'),\n",
    "  best_params\n",
    ")\n",
    "\n",
    "last_fit <- final_workflow %>%\n",
    "  last_fit(split = dataset_split)\n",
    "\n",
    "# last_fit %>% collect_predictions()\n",
    "\n",
    "last_fit%>% collect_metrics()\n",
    "\n",
    "class(last_fit)"
   ]
  },
  {
   "cell_type": "code",
   "execution_count": null,
   "id": "b460345b-8d88-406b-8a38-a946db26b832",
   "metadata": {},
   "outputs": [],
   "source": []
  },
  {
   "cell_type": "code",
   "execution_count": null,
   "id": "bc592ecd-bf93-41b3-bfd4-33e0fc587fc4",
   "metadata": {},
   "outputs": [],
   "source": []
  },
  {
   "cell_type": "markdown",
   "id": "4a0b28e1-8604-470e-9850-ba357e7bf9d8",
   "metadata": {},
   "source": [
    "# Annexe 1\n",
    "## 3 models SVM"
   ]
  },
  {
   "cell_type": "code",
   "execution_count": null,
   "id": "0a682b17-98df-4821-8a6c-35997c7eea94",
   "metadata": {},
   "outputs": [],
   "source": [
    "# 1. Définir la recette pour le prétraitement\n",
    "rec <- recipe(target ~ ., data = train_data) %>%\n",
    "  step_normalize(all_numeric_predictors())\n",
    "\n",
    "# ================================\n",
    "#  SVM avec noyau linéaire\n",
    "# ================================\n",
    "\n",
    "# Modèle SVM linéaire\n",
    "svm_linear_mod <- svm_linear(\n",
    "  cost = tune()  # Paramètre de régularisation\n",
    ") %>%\n",
    "  set_engine(\"LiblineaR\") %>%\n",
    "  set_mode(\"classification\")\n",
    "\n",
    "# Workflow SVM linéaire\n",
    "svm_linear_wf <- workflow() %>%\n",
    "  add_model(svm_linear_mod) %>%\n",
    "  add_recipe(rec)\n",
    "\n",
    "# Grille d'hyperparamètres pour le noyau linéaire\n",
    "svm_linear_grid <- expand_grid(\n",
    "  cost = c(0.1, 1, 10, 100)  # Valeurs spécifiques pour C\n",
    ")\n",
    "\n",
    "# ================================\n",
    "#  SVM avec noyau RBF\n",
    "# ================================\n",
    "\n",
    "# Modèle SVM RBF\n",
    "svm_rbf_mod <- svm_rbf(\n",
    "  cost = tune(),       # Paramètre de régularisation\n",
    "  rbf_sigma = tune()   # Paramètre gamma\n",
    ") %>%\n",
    "  set_engine(\"kernlab\") %>%\n",
    "  set_mode(\"classification\")\n",
    "\n",
    "# Workflow SVM RBF\n",
    "svm_rbf_wf <- workflow() %>%\n",
    "  add_model(svm_rbf_mod) %>%\n",
    "  add_recipe(rec)\n",
    "\n",
    "# Grille d'hyperparamètres pour le noyau RBF\n",
    "svm_rbf_grid <- expand_grid(\n",
    "  cost = c(0.1, 1, 10, 100),  # Valeurs spécifiques pour C\n",
    "  rbf_sigma = c(0.01, 0.1, 1) # Valeurs spécifiques pour gamma\n",
    ")\n",
    "\n",
    "# ================================\n",
    "#  SVM avec noyau polynomial\n",
    "# ================================\n",
    "\n",
    "# Modèle SVM polynomial\n",
    "svm_poly_mod <- svm_poly(\n",
    "  cost = tune(),       # Paramètre de régularisation\n",
    "  degree = tune()      # Degré du polynôme\n",
    ") %>%\n",
    "  set_engine(\"kernlab\") %>%\n",
    "  set_mode(\"classification\")\n",
    "\n",
    "# Workflow SVM polynomial\n",
    "svm_poly_wf <- workflow() %>%\n",
    "  add_model(svm_poly_mod) %>%\n",
    "  add_recipe(rec)\n",
    "\n",
    "# Grille d'hyperparamètres pour le noyau polynomial\n",
    "svm_poly_grid <- expand_grid(\n",
    "  cost = c(0.1, 1, 10, 100),  # Valeurs spécifiques pour C\n",
    "  degree = c(2, 3, 4)         # Degré du polynôme\n",
    ")\n",
    "\n",
    "# ================================\n",
    "#  Tuning et résultats\n",
    "# ================================\n",
    "\n",
    "# Splits de validation croisée\n",
    "cv_splits <- vfold_cv(train_data, v = 5, strata = target)\n",
    "\n",
    "# Tuning pour SVM linéaire\n",
    "svm_linear_results <- tune_grid(\n",
    "  svm_linear_wf,\n",
    "  resamples = cv_splits,\n",
    "  grid = svm_linear_grid,\n",
    "  metrics = metric_set(roc_auc, accuracy)\n",
    ")\n",
    "\n",
    "# Tuning pour SVM RBF\n",
    "svm_rbf_results <- tune_grid(\n",
    "  svm_rbf_wf,\n",
    "  resamples = cv_splits,\n",
    "  grid = svm_rbf_grid,\n",
    "  metrics = metric_set(roc_auc, accuracy)\n",
    ")\n",
    "\n",
    "# Tuning pour SVM polynomial\n",
    "svm_poly_results <- tune_grid(\n",
    "  svm_poly_wf,\n",
    "  resamples = cv_splits,\n",
    "  grid = svm_poly_grid,\n",
    "  metrics = metric_set(roc_auc, accuracy)\n",
    ")\n",
    "\n",
    "# ================================\n",
    "#  Meilleurs résultats\n",
    "# ================================\n",
    "\n",
    "# Afficher les meilleurs hyperparamètres pour chaque modèle\n",
    "show_best(svm_linear_results, metric = \"roc_auc\")\n",
    "show_best(svm_rbf_results, metric = \"roc_auc\")\n",
    "show_best(svm_poly_results, metric = \"roc_auc\")\n"
   ]
  },
  {
   "cell_type": "code",
   "execution_count": null,
   "id": "ee8d0442-982f-430f-b563-57c09a8ed495",
   "metadata": {},
   "outputs": [],
   "source": []
  }
 ],
 "metadata": {
  "kernelspec": {
   "display_name": "Python 3 (ipykernel)",
   "language": "python",
   "name": "python3"
  },
  "language_info": {
   "codemirror_mode": {
    "name": "ipython",
    "version": 3
   },
   "file_extension": ".py",
   "mimetype": "text/x-python",
   "name": "python",
   "nbconvert_exporter": "python",
   "pygments_lexer": "ipython3",
   "version": "3.11.7"
  }
 },
 "nbformat": 4,
 "nbformat_minor": 5
}
